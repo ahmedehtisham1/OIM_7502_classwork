{
 "cells": [
  {
   "cell_type": "markdown",
   "id": "5283d30a",
   "metadata": {},
   "source": [
    "# Wage Dataset – Session 2 In-class Activity\n",
    "## Muhammad Ahmed Ehtisham\n",
    "\n",
    "This notebook answers the questions using the **Wage.csv** data file. "
   ]
  },
  {
   "cell_type": "markdown",
   "id": "5cc0ca24",
   "metadata": {
    "jp-MarkdownHeadingCollapsed": true
   },
   "source": [
    "## 0. Setup\n",
    "Import libraries and load the dataset."
   ]
  },
  {
   "cell_type": "code",
   "execution_count": 16,
   "id": "9e5b62c0",
   "metadata": {},
   "outputs": [],
   "source": [
    "from __future__ import annotations\n",
    "\n",
    "import pandas as pd\n",
    "import numpy as np\n",
    "import matplotlib.pyplot as plt"
   ]
  },
  {
   "cell_type": "markdown",
   "id": "f1c1c9bc",
   "metadata": {
    "jp-MarkdownHeadingCollapsed": true
   },
   "source": [
    "## 1. Load the dataset"
   ]
  },
  {
   "cell_type": "markdown",
   "id": "83bdd09e",
   "metadata": {},
   "source": [
    "The dataset is loaded into a DataFrame named `df`."
   ]
  },
  {
   "cell_type": "code",
   "execution_count": 18,
   "id": "52659b4b",
   "metadata": {},
   "outputs": [],
   "source": [
    "# Load the dataset\n",
    "DATA_PATH = r\"/Users/ahmedehtisham/Desktop/Masters/Babson/Academics/FALL 2025/OIM 7502 - AP/OIM7502_F25/data/Wage.csv\"\n",
    "df = pd.read_csv(DATA_PATH)\n"
   ]
  },
  {
   "cell_type": "markdown",
   "id": "b15b421f",
   "metadata": {
    "jp-MarkdownHeadingCollapsed": true
   },
   "source": [
    "## 2. First 10 rows"
   ]
  },
  {
   "cell_type": "markdown",
   "id": "174710b9",
   "metadata": {},
   "source": [
    "Preview the first 10 rows to get a sense of the columns and data values."
   ]
  },
  {
   "cell_type": "code",
   "execution_count": 8,
   "id": "5d1539b3",
   "metadata": {},
   "outputs": [
    {
     "data": {
      "text/html": [
       "<div>\n",
       "<style scoped>\n",
       "    .dataframe tbody tr th:only-of-type {\n",
       "        vertical-align: middle;\n",
       "    }\n",
       "\n",
       "    .dataframe tbody tr th {\n",
       "        vertical-align: top;\n",
       "    }\n",
       "\n",
       "    .dataframe thead th {\n",
       "        text-align: right;\n",
       "    }\n",
       "</style>\n",
       "<table border=\"1\" class=\"dataframe\">\n",
       "  <thead>\n",
       "    <tr style=\"text-align: right;\">\n",
       "      <th></th>\n",
       "      <th>year</th>\n",
       "      <th>age</th>\n",
       "      <th>maritl</th>\n",
       "      <th>race</th>\n",
       "      <th>education</th>\n",
       "      <th>region</th>\n",
       "      <th>jobclass</th>\n",
       "      <th>health</th>\n",
       "      <th>health_ins</th>\n",
       "      <th>logwage</th>\n",
       "      <th>wage</th>\n",
       "    </tr>\n",
       "  </thead>\n",
       "  <tbody>\n",
       "    <tr>\n",
       "      <th>0</th>\n",
       "      <td>2006</td>\n",
       "      <td>18</td>\n",
       "      <td>1. Never Married</td>\n",
       "      <td>1. White</td>\n",
       "      <td>1. &lt; HS Grad</td>\n",
       "      <td>2. Middle Atlantic</td>\n",
       "      <td>1. Industrial</td>\n",
       "      <td>1. &lt;=Good</td>\n",
       "      <td>2. No</td>\n",
       "      <td>4.318</td>\n",
       "      <td>75.043</td>\n",
       "    </tr>\n",
       "    <tr>\n",
       "      <th>1</th>\n",
       "      <td>2004</td>\n",
       "      <td>24</td>\n",
       "      <td>1. Never Married</td>\n",
       "      <td>1. White</td>\n",
       "      <td>4. College Grad</td>\n",
       "      <td>2. Middle Atlantic</td>\n",
       "      <td>2. Information</td>\n",
       "      <td>2. &gt;=Very Good</td>\n",
       "      <td>2. No</td>\n",
       "      <td>4.255</td>\n",
       "      <td>70.476</td>\n",
       "    </tr>\n",
       "    <tr>\n",
       "      <th>2</th>\n",
       "      <td>2003</td>\n",
       "      <td>45</td>\n",
       "      <td>2. Married</td>\n",
       "      <td>1. White</td>\n",
       "      <td>3. Some College</td>\n",
       "      <td>2. Middle Atlantic</td>\n",
       "      <td>1. Industrial</td>\n",
       "      <td>1. &lt;=Good</td>\n",
       "      <td>1. Yes</td>\n",
       "      <td>4.875</td>\n",
       "      <td>130.982</td>\n",
       "    </tr>\n",
       "    <tr>\n",
       "      <th>3</th>\n",
       "      <td>2003</td>\n",
       "      <td>43</td>\n",
       "      <td>2. Married</td>\n",
       "      <td>3. Asian</td>\n",
       "      <td>4. College Grad</td>\n",
       "      <td>2. Middle Atlantic</td>\n",
       "      <td>2. Information</td>\n",
       "      <td>2. &gt;=Very Good</td>\n",
       "      <td>1. Yes</td>\n",
       "      <td>5.041</td>\n",
       "      <td>154.685</td>\n",
       "    </tr>\n",
       "    <tr>\n",
       "      <th>4</th>\n",
       "      <td>2005</td>\n",
       "      <td>50</td>\n",
       "      <td>4. Divorced</td>\n",
       "      <td>1. White</td>\n",
       "      <td>2. HS Grad</td>\n",
       "      <td>2. Middle Atlantic</td>\n",
       "      <td>2. Information</td>\n",
       "      <td>1. &lt;=Good</td>\n",
       "      <td>1. Yes</td>\n",
       "      <td>4.318</td>\n",
       "      <td>75.043</td>\n",
       "    </tr>\n",
       "    <tr>\n",
       "      <th>5</th>\n",
       "      <td>2008</td>\n",
       "      <td>54</td>\n",
       "      <td>2. Married</td>\n",
       "      <td>1. White</td>\n",
       "      <td>4. College Grad</td>\n",
       "      <td>2. Middle Atlantic</td>\n",
       "      <td>2. Information</td>\n",
       "      <td>2. &gt;=Very Good</td>\n",
       "      <td>1. Yes</td>\n",
       "      <td>4.845</td>\n",
       "      <td>127.116</td>\n",
       "    </tr>\n",
       "    <tr>\n",
       "      <th>6</th>\n",
       "      <td>2009</td>\n",
       "      <td>44</td>\n",
       "      <td>2. Married</td>\n",
       "      <td>4. Other</td>\n",
       "      <td>3. Some College</td>\n",
       "      <td>2. Middle Atlantic</td>\n",
       "      <td>1. Industrial</td>\n",
       "      <td>2. &gt;=Very Good</td>\n",
       "      <td>1. Yes</td>\n",
       "      <td>5.133</td>\n",
       "      <td>169.529</td>\n",
       "    </tr>\n",
       "    <tr>\n",
       "      <th>7</th>\n",
       "      <td>2008</td>\n",
       "      <td>30</td>\n",
       "      <td>1. Never Married</td>\n",
       "      <td>3. Asian</td>\n",
       "      <td>3. Some College</td>\n",
       "      <td>2. Middle Atlantic</td>\n",
       "      <td>2. Information</td>\n",
       "      <td>1. &lt;=Good</td>\n",
       "      <td>1. Yes</td>\n",
       "      <td>4.716</td>\n",
       "      <td>111.721</td>\n",
       "    </tr>\n",
       "    <tr>\n",
       "      <th>8</th>\n",
       "      <td>2006</td>\n",
       "      <td>41</td>\n",
       "      <td>1. Never Married</td>\n",
       "      <td>2. Black</td>\n",
       "      <td>3. Some College</td>\n",
       "      <td>2. Middle Atlantic</td>\n",
       "      <td>2. Information</td>\n",
       "      <td>2. &gt;=Very Good</td>\n",
       "      <td>1. Yes</td>\n",
       "      <td>4.778</td>\n",
       "      <td>118.884</td>\n",
       "    </tr>\n",
       "    <tr>\n",
       "      <th>9</th>\n",
       "      <td>2004</td>\n",
       "      <td>52</td>\n",
       "      <td>2. Married</td>\n",
       "      <td>1. White</td>\n",
       "      <td>2. HS Grad</td>\n",
       "      <td>2. Middle Atlantic</td>\n",
       "      <td>2. Information</td>\n",
       "      <td>2. &gt;=Very Good</td>\n",
       "      <td>1. Yes</td>\n",
       "      <td>4.857</td>\n",
       "      <td>128.680</td>\n",
       "    </tr>\n",
       "  </tbody>\n",
       "</table>\n",
       "</div>"
      ],
      "text/plain": [
       "   year  age            maritl      race        education              region  \\\n",
       "0  2006   18  1. Never Married  1. White     1. < HS Grad  2. Middle Atlantic   \n",
       "1  2004   24  1. Never Married  1. White  4. College Grad  2. Middle Atlantic   \n",
       "2  2003   45        2. Married  1. White  3. Some College  2. Middle Atlantic   \n",
       "3  2003   43        2. Married  3. Asian  4. College Grad  2. Middle Atlantic   \n",
       "4  2005   50       4. Divorced  1. White       2. HS Grad  2. Middle Atlantic   \n",
       "5  2008   54        2. Married  1. White  4. College Grad  2. Middle Atlantic   \n",
       "6  2009   44        2. Married  4. Other  3. Some College  2. Middle Atlantic   \n",
       "7  2008   30  1. Never Married  3. Asian  3. Some College  2. Middle Atlantic   \n",
       "8  2006   41  1. Never Married  2. Black  3. Some College  2. Middle Atlantic   \n",
       "9  2004   52        2. Married  1. White       2. HS Grad  2. Middle Atlantic   \n",
       "\n",
       "         jobclass          health health_ins  logwage     wage  \n",
       "0   1. Industrial       1. <=Good      2. No    4.318   75.043  \n",
       "1  2. Information  2. >=Very Good      2. No    4.255   70.476  \n",
       "2   1. Industrial       1. <=Good     1. Yes    4.875  130.982  \n",
       "3  2. Information  2. >=Very Good     1. Yes    5.041  154.685  \n",
       "4  2. Information       1. <=Good     1. Yes    4.318   75.043  \n",
       "5  2. Information  2. >=Very Good     1. Yes    4.845  127.116  \n",
       "6   1. Industrial  2. >=Very Good     1. Yes    5.133  169.529  \n",
       "7  2. Information       1. <=Good     1. Yes    4.716  111.721  \n",
       "8  2. Information  2. >=Very Good     1. Yes    4.778  118.884  \n",
       "9  2. Information  2. >=Very Good     1. Yes    4.857  128.680  "
      ]
     },
     "execution_count": 8,
     "metadata": {},
     "output_type": "execute_result"
    }
   ],
   "source": [
    "df.head(10)"
   ]
  },
  {
   "cell_type": "markdown",
   "id": "d255dedf",
   "metadata": {
    "jp-MarkdownHeadingCollapsed": true
   },
   "source": [
    "## 3. Last 10 rows"
   ]
  },
  {
   "cell_type": "markdown",
   "id": "c0a52ea5",
   "metadata": {},
   "source": [
    "Preview the last 10 rows for any patterns at the end of the file."
   ]
  },
  {
   "cell_type": "code",
   "execution_count": 10,
   "id": "7b1f2afe",
   "metadata": {},
   "outputs": [
    {
     "data": {
      "text/html": [
       "<div>\n",
       "<style scoped>\n",
       "    .dataframe tbody tr th:only-of-type {\n",
       "        vertical-align: middle;\n",
       "    }\n",
       "\n",
       "    .dataframe tbody tr th {\n",
       "        vertical-align: top;\n",
       "    }\n",
       "\n",
       "    .dataframe thead th {\n",
       "        text-align: right;\n",
       "    }\n",
       "</style>\n",
       "<table border=\"1\" class=\"dataframe\">\n",
       "  <thead>\n",
       "    <tr style=\"text-align: right;\">\n",
       "      <th></th>\n",
       "      <th>year</th>\n",
       "      <th>age</th>\n",
       "      <th>maritl</th>\n",
       "      <th>race</th>\n",
       "      <th>education</th>\n",
       "      <th>region</th>\n",
       "      <th>jobclass</th>\n",
       "      <th>health</th>\n",
       "      <th>health_ins</th>\n",
       "      <th>logwage</th>\n",
       "      <th>wage</th>\n",
       "    </tr>\n",
       "  </thead>\n",
       "  <tbody>\n",
       "    <tr>\n",
       "      <th>2990</th>\n",
       "      <td>2009</td>\n",
       "      <td>50</td>\n",
       "      <td>2. Married</td>\n",
       "      <td>2. Black</td>\n",
       "      <td>2. HS Grad</td>\n",
       "      <td>2. Middle Atlantic</td>\n",
       "      <td>1. Industrial</td>\n",
       "      <td>2. &gt;=Very Good</td>\n",
       "      <td>2. No</td>\n",
       "      <td>4.886</td>\n",
       "      <td>132.488</td>\n",
       "    </tr>\n",
       "    <tr>\n",
       "      <th>2991</th>\n",
       "      <td>2003</td>\n",
       "      <td>26</td>\n",
       "      <td>1. Never Married</td>\n",
       "      <td>2. Black</td>\n",
       "      <td>3. Some College</td>\n",
       "      <td>2. Middle Atlantic</td>\n",
       "      <td>1. Industrial</td>\n",
       "      <td>2. &gt;=Very Good</td>\n",
       "      <td>2. No</td>\n",
       "      <td>4.778</td>\n",
       "      <td>118.884</td>\n",
       "    </tr>\n",
       "    <tr>\n",
       "      <th>2992</th>\n",
       "      <td>2007</td>\n",
       "      <td>35</td>\n",
       "      <td>2. Married</td>\n",
       "      <td>1. White</td>\n",
       "      <td>1. &lt; HS Grad</td>\n",
       "      <td>2. Middle Atlantic</td>\n",
       "      <td>1. Industrial</td>\n",
       "      <td>1. &lt;=Good</td>\n",
       "      <td>2. No</td>\n",
       "      <td>4.699</td>\n",
       "      <td>109.834</td>\n",
       "    </tr>\n",
       "    <tr>\n",
       "      <th>2993</th>\n",
       "      <td>2006</td>\n",
       "      <td>31</td>\n",
       "      <td>2. Married</td>\n",
       "      <td>1. White</td>\n",
       "      <td>2. HS Grad</td>\n",
       "      <td>2. Middle Atlantic</td>\n",
       "      <td>2. Information</td>\n",
       "      <td>2. &gt;=Very Good</td>\n",
       "      <td>1. Yes</td>\n",
       "      <td>4.633</td>\n",
       "      <td>102.870</td>\n",
       "    </tr>\n",
       "    <tr>\n",
       "      <th>2994</th>\n",
       "      <td>2009</td>\n",
       "      <td>31</td>\n",
       "      <td>2. Married</td>\n",
       "      <td>1. White</td>\n",
       "      <td>4. College Grad</td>\n",
       "      <td>2. Middle Atlantic</td>\n",
       "      <td>2. Information</td>\n",
       "      <td>2. &gt;=Very Good</td>\n",
       "      <td>1. Yes</td>\n",
       "      <td>4.893</td>\n",
       "      <td>133.381</td>\n",
       "    </tr>\n",
       "    <tr>\n",
       "      <th>2995</th>\n",
       "      <td>2008</td>\n",
       "      <td>44</td>\n",
       "      <td>2. Married</td>\n",
       "      <td>1. White</td>\n",
       "      <td>3. Some College</td>\n",
       "      <td>2. Middle Atlantic</td>\n",
       "      <td>1. Industrial</td>\n",
       "      <td>2. &gt;=Very Good</td>\n",
       "      <td>1. Yes</td>\n",
       "      <td>5.041</td>\n",
       "      <td>154.685</td>\n",
       "    </tr>\n",
       "    <tr>\n",
       "      <th>2996</th>\n",
       "      <td>2007</td>\n",
       "      <td>30</td>\n",
       "      <td>2. Married</td>\n",
       "      <td>1. White</td>\n",
       "      <td>2. HS Grad</td>\n",
       "      <td>2. Middle Atlantic</td>\n",
       "      <td>1. Industrial</td>\n",
       "      <td>2. &gt;=Very Good</td>\n",
       "      <td>2. No</td>\n",
       "      <td>4.602</td>\n",
       "      <td>99.689</td>\n",
       "    </tr>\n",
       "    <tr>\n",
       "      <th>2997</th>\n",
       "      <td>2005</td>\n",
       "      <td>27</td>\n",
       "      <td>2. Married</td>\n",
       "      <td>2. Black</td>\n",
       "      <td>1. &lt; HS Grad</td>\n",
       "      <td>2. Middle Atlantic</td>\n",
       "      <td>1. Industrial</td>\n",
       "      <td>1. &lt;=Good</td>\n",
       "      <td>2. No</td>\n",
       "      <td>4.193</td>\n",
       "      <td>66.229</td>\n",
       "    </tr>\n",
       "    <tr>\n",
       "      <th>2998</th>\n",
       "      <td>2005</td>\n",
       "      <td>27</td>\n",
       "      <td>1. Never Married</td>\n",
       "      <td>1. White</td>\n",
       "      <td>3. Some College</td>\n",
       "      <td>2. Middle Atlantic</td>\n",
       "      <td>1. Industrial</td>\n",
       "      <td>2. &gt;=Very Good</td>\n",
       "      <td>1. Yes</td>\n",
       "      <td>4.477</td>\n",
       "      <td>87.981</td>\n",
       "    </tr>\n",
       "    <tr>\n",
       "      <th>2999</th>\n",
       "      <td>2009</td>\n",
       "      <td>55</td>\n",
       "      <td>5. Separated</td>\n",
       "      <td>1. White</td>\n",
       "      <td>2. HS Grad</td>\n",
       "      <td>2. Middle Atlantic</td>\n",
       "      <td>1. Industrial</td>\n",
       "      <td>1. &lt;=Good</td>\n",
       "      <td>1. Yes</td>\n",
       "      <td>4.505</td>\n",
       "      <td>90.482</td>\n",
       "    </tr>\n",
       "  </tbody>\n",
       "</table>\n",
       "</div>"
      ],
      "text/plain": [
       "      year  age            maritl      race        education  \\\n",
       "2990  2009   50        2. Married  2. Black       2. HS Grad   \n",
       "2991  2003   26  1. Never Married  2. Black  3. Some College   \n",
       "2992  2007   35        2. Married  1. White     1. < HS Grad   \n",
       "2993  2006   31        2. Married  1. White       2. HS Grad   \n",
       "2994  2009   31        2. Married  1. White  4. College Grad   \n",
       "2995  2008   44        2. Married  1. White  3. Some College   \n",
       "2996  2007   30        2. Married  1. White       2. HS Grad   \n",
       "2997  2005   27        2. Married  2. Black     1. < HS Grad   \n",
       "2998  2005   27  1. Never Married  1. White  3. Some College   \n",
       "2999  2009   55      5. Separated  1. White       2. HS Grad   \n",
       "\n",
       "                  region        jobclass          health health_ins  logwage  \\\n",
       "2990  2. Middle Atlantic   1. Industrial  2. >=Very Good      2. No    4.886   \n",
       "2991  2. Middle Atlantic   1. Industrial  2. >=Very Good      2. No    4.778   \n",
       "2992  2. Middle Atlantic   1. Industrial       1. <=Good      2. No    4.699   \n",
       "2993  2. Middle Atlantic  2. Information  2. >=Very Good     1. Yes    4.633   \n",
       "2994  2. Middle Atlantic  2. Information  2. >=Very Good     1. Yes    4.893   \n",
       "2995  2. Middle Atlantic   1. Industrial  2. >=Very Good     1. Yes    5.041   \n",
       "2996  2. Middle Atlantic   1. Industrial  2. >=Very Good      2. No    4.602   \n",
       "2997  2. Middle Atlantic   1. Industrial       1. <=Good      2. No    4.193   \n",
       "2998  2. Middle Atlantic   1. Industrial  2. >=Very Good     1. Yes    4.477   \n",
       "2999  2. Middle Atlantic   1. Industrial       1. <=Good     1. Yes    4.505   \n",
       "\n",
       "         wage  \n",
       "2990  132.488  \n",
       "2991  118.884  \n",
       "2992  109.834  \n",
       "2993  102.870  \n",
       "2994  133.381  \n",
       "2995  154.685  \n",
       "2996   99.689  \n",
       "2997   66.229  \n",
       "2998   87.981  \n",
       "2999   90.482  "
      ]
     },
     "execution_count": 10,
     "metadata": {},
     "output_type": "execute_result"
    }
   ],
   "source": [
    "df.tail(10)"
   ]
  },
  {
   "cell_type": "markdown",
   "id": "7f43ade3",
   "metadata": {
    "jp-MarkdownHeadingCollapsed": true
   },
   "source": [
    "## 4. Number of rows"
   ]
  },
  {
   "cell_type": "markdown",
   "id": "9015ca2b",
   "metadata": {},
   "source": [
    "Count the number of rows in the DataFrame."
   ]
  },
  {
   "cell_type": "code",
   "execution_count": 12,
   "id": "6a486d65",
   "metadata": {},
   "outputs": [
    {
     "name": "stdout",
     "output_type": "stream",
     "text": [
      "3000\n"
     ]
    }
   ],
   "source": [
    "print(len(df))"
   ]
  },
  {
   "cell_type": "markdown",
   "id": "0b7788cf",
   "metadata": {
    "jp-MarkdownHeadingCollapsed": true
   },
   "source": [
    "## 5. DataFrame metadata"
   ]
  },
  {
   "cell_type": "markdown",
   "id": "565303b1",
   "metadata": {},
   "source": [
    "Use `info()` to see metadata."
   ]
  },
  {
   "cell_type": "code",
   "execution_count": 22,
   "id": "beffa4a1",
   "metadata": {},
   "outputs": [
    {
     "name": "stdout",
     "output_type": "stream",
     "text": [
      "<class 'pandas.core.frame.DataFrame'>\n",
      "RangeIndex: 3000 entries, 0 to 2999\n",
      "Data columns (total 11 columns):\n",
      " #   Column      Non-Null Count  Dtype  \n",
      "---  ------      --------------  -----  \n",
      " 0   year        3000 non-null   int64  \n",
      " 1   age         3000 non-null   int64  \n",
      " 2   maritl      3000 non-null   object \n",
      " 3   race        3000 non-null   object \n",
      " 4   education   3000 non-null   object \n",
      " 5   region      3000 non-null   object \n",
      " 6   jobclass    3000 non-null   object \n",
      " 7   health      3000 non-null   object \n",
      " 8   health_ins  3000 non-null   object \n",
      " 9   logwage     3000 non-null   float64\n",
      " 10  wage        3000 non-null   float64\n",
      "dtypes: float64(2), int64(2), object(7)\n",
      "memory usage: 257.9+ KB\n"
     ]
    }
   ],
   "source": [
    "df.info()"
   ]
  },
  {
   "cell_type": "markdown",
   "id": "99136307",
   "metadata": {
    "jp-MarkdownHeadingCollapsed": true
   },
   "source": [
    "## 6. Data types for two columns"
   ]
  },
  {
   "cell_type": "markdown",
   "id": "f9867558",
   "metadata": {},
   "source": [
    "Show data types for two representative columns: `age` and `wage`."
   ]
  },
  {
   "cell_type": "code",
   "execution_count": 26,
   "id": "0b895c94",
   "metadata": {},
   "outputs": [
    {
     "name": "stdout",
     "output_type": "stream",
     "text": [
      "age: int64\n",
      "wage: float64\n"
     ]
    },
    {
     "data": {
      "text/plain": [
       "dtype('int64')"
      ]
     },
     "execution_count": 26,
     "metadata": {},
     "output_type": "execute_result"
    }
   ],
   "source": [
    "for col in [\"age\", \"wage\"]:\n",
    "    print(f\"{col}: {df[col].dtype}\")"
   ]
  },
  {
   "cell_type": "markdown",
   "id": "7bb023d0",
   "metadata": {
    "jp-MarkdownHeadingCollapsed": true
   },
   "source": [
    "## 7. Column names"
   ]
  },
  {
   "cell_type": "markdown",
   "id": "adc070da",
   "metadata": {},
   "source": [
    "List all column names."
   ]
  },
  {
   "cell_type": "code",
   "execution_count": 29,
   "id": "ef9114ba",
   "metadata": {},
   "outputs": [
    {
     "data": {
      "text/plain": [
       "['year',\n",
       " 'age',\n",
       " 'maritl',\n",
       " 'race',\n",
       " 'education',\n",
       " 'region',\n",
       " 'jobclass',\n",
       " 'health',\n",
       " 'health_ins',\n",
       " 'logwage',\n",
       " 'wage']"
      ]
     },
     "execution_count": 29,
     "metadata": {},
     "output_type": "execute_result"
    }
   ],
   "source": [
    "list(df.columns)"
   ]
  },
  {
   "cell_type": "markdown",
   "id": "fb0fb5f7",
   "metadata": {
    "jp-MarkdownHeadingCollapsed": true
   },
   "source": [
    "## 8. DataFrame index"
   ]
  },
  {
   "cell_type": "markdown",
   "id": "2a020a79",
   "metadata": {},
   "source": [
    "Inspect the index."
   ]
  },
  {
   "cell_type": "code",
   "execution_count": 32,
   "id": "684cad72",
   "metadata": {},
   "outputs": [
    {
     "data": {
      "text/plain": [
       "RangeIndex(start=0, stop=3000, step=1)"
      ]
     },
     "execution_count": 32,
     "metadata": {},
     "output_type": "execute_result"
    }
   ],
   "source": [
    "df.index"
   ]
  },
  {
   "cell_type": "markdown",
   "id": "8fef7191",
   "metadata": {
    "jp-MarkdownHeadingCollapsed": true
   },
   "source": [
    "## 9. Number of elements (cells)"
   ]
  },
  {
   "cell_type": "markdown",
   "id": "1eeec3d6",
   "metadata": {},
   "source": [
    "Compute total number of elements as rows × columns."
   ]
  },
  {
   "cell_type": "code",
   "execution_count": 34,
   "id": "14953630",
   "metadata": {},
   "outputs": [
    {
     "name": "stdout",
     "output_type": "stream",
     "text": [
      "33000\n"
     ]
    }
   ],
   "source": [
    "print(df.size)"
   ]
  },
  {
   "cell_type": "markdown",
   "id": "d2970004",
   "metadata": {
    "jp-MarkdownHeadingCollapsed": true
   },
   "source": [
    "## 10. Number of rows and columns"
   ]
  },
  {
   "cell_type": "markdown",
   "id": "5392c3cc",
   "metadata": {},
   "source": [
    "Report rows and columns separately for clarity."
   ]
  },
  {
   "cell_type": "code",
   "execution_count": 36,
   "id": "66ea388a",
   "metadata": {},
   "outputs": [
    {
     "name": "stdout",
     "output_type": "stream",
     "text": [
      "Rows: 3000\n",
      "Columns: 11\n"
     ]
    }
   ],
   "source": [
    "n_rows, n_cols = df.shape\n",
    "print(\"Rows:\", n_rows)\n",
    "print(\"Columns:\", n_cols)\n"
   ]
  },
  {
   "cell_type": "markdown",
   "id": "c4aab853",
   "metadata": {
    "jp-MarkdownHeadingCollapsed": true
   },
   "source": [
    "## 11. Descriptive statistics for `wage` and `age`"
   ]
  },
  {
   "cell_type": "markdown",
   "id": "e5cb170c",
   "metadata": {},
   "source": [
    "Compute descriptive stats for `wage` and `age`."
   ]
  },
  {
   "cell_type": "code",
   "execution_count": 38,
   "id": "5384d500",
   "metadata": {},
   "outputs": [
    {
     "data": {
      "text/html": [
       "<div>\n",
       "<style scoped>\n",
       "    .dataframe tbody tr th:only-of-type {\n",
       "        vertical-align: middle;\n",
       "    }\n",
       "\n",
       "    .dataframe tbody tr th {\n",
       "        vertical-align: top;\n",
       "    }\n",
       "\n",
       "    .dataframe thead th {\n",
       "        text-align: right;\n",
       "    }\n",
       "</style>\n",
       "<table border=\"1\" class=\"dataframe\">\n",
       "  <thead>\n",
       "    <tr style=\"text-align: right;\">\n",
       "      <th></th>\n",
       "      <th>wage</th>\n",
       "      <th>age</th>\n",
       "    </tr>\n",
       "  </thead>\n",
       "  <tbody>\n",
       "    <tr>\n",
       "      <th>count</th>\n",
       "      <td>3000.000</td>\n",
       "      <td>3000.000</td>\n",
       "    </tr>\n",
       "    <tr>\n",
       "      <th>mean</th>\n",
       "      <td>111.704</td>\n",
       "      <td>42.415</td>\n",
       "    </tr>\n",
       "    <tr>\n",
       "      <th>std</th>\n",
       "      <td>41.729</td>\n",
       "      <td>11.542</td>\n",
       "    </tr>\n",
       "    <tr>\n",
       "      <th>min</th>\n",
       "      <td>20.086</td>\n",
       "      <td>18.000</td>\n",
       "    </tr>\n",
       "    <tr>\n",
       "      <th>25%</th>\n",
       "      <td>85.384</td>\n",
       "      <td>33.750</td>\n",
       "    </tr>\n",
       "    <tr>\n",
       "      <th>50%</th>\n",
       "      <td>104.922</td>\n",
       "      <td>42.000</td>\n",
       "    </tr>\n",
       "    <tr>\n",
       "      <th>75%</th>\n",
       "      <td>128.680</td>\n",
       "      <td>51.000</td>\n",
       "    </tr>\n",
       "    <tr>\n",
       "      <th>max</th>\n",
       "      <td>318.342</td>\n",
       "      <td>80.000</td>\n",
       "    </tr>\n",
       "  </tbody>\n",
       "</table>\n",
       "</div>"
      ],
      "text/plain": [
       "           wage       age\n",
       "count  3000.000  3000.000\n",
       "mean    111.704    42.415\n",
       "std      41.729    11.542\n",
       "min      20.086    18.000\n",
       "25%      85.384    33.750\n",
       "50%     104.922    42.000\n",
       "75%     128.680    51.000\n",
       "max     318.342    80.000"
      ]
     },
     "execution_count": 38,
     "metadata": {},
     "output_type": "execute_result"
    }
   ],
   "source": [
    "df[[\"wage\", \"age\"]].describe()\n"
   ]
  },
  {
   "cell_type": "markdown",
   "id": "e6b55ee6",
   "metadata": {
    "jp-MarkdownHeadingCollapsed": true
   },
   "source": [
    "## 12. Descriptive statistics for `wage` and `age` by `race`"
   ]
  },
  {
   "cell_type": "markdown",
   "id": "ce588170",
   "metadata": {},
   "source": [
    "Group by `race` and describe `wage` and `age`."
   ]
  },
  {
   "cell_type": "code",
   "execution_count": 40,
   "id": "43838fee",
   "metadata": {},
   "outputs": [
    {
     "data": {
      "text/html": [
       "<div>\n",
       "<style scoped>\n",
       "    .dataframe tbody tr th:only-of-type {\n",
       "        vertical-align: middle;\n",
       "    }\n",
       "\n",
       "    .dataframe tbody tr th {\n",
       "        vertical-align: top;\n",
       "    }\n",
       "\n",
       "    .dataframe thead tr th {\n",
       "        text-align: left;\n",
       "    }\n",
       "\n",
       "    .dataframe thead tr:last-of-type th {\n",
       "        text-align: right;\n",
       "    }\n",
       "</style>\n",
       "<table border=\"1\" class=\"dataframe\">\n",
       "  <thead>\n",
       "    <tr>\n",
       "      <th></th>\n",
       "      <th colspan=\"8\" halign=\"left\">wage</th>\n",
       "      <th colspan=\"8\" halign=\"left\">age</th>\n",
       "    </tr>\n",
       "    <tr>\n",
       "      <th></th>\n",
       "      <th>count</th>\n",
       "      <th>mean</th>\n",
       "      <th>std</th>\n",
       "      <th>min</th>\n",
       "      <th>25%</th>\n",
       "      <th>50%</th>\n",
       "      <th>75%</th>\n",
       "      <th>max</th>\n",
       "      <th>count</th>\n",
       "      <th>mean</th>\n",
       "      <th>std</th>\n",
       "      <th>min</th>\n",
       "      <th>25%</th>\n",
       "      <th>50%</th>\n",
       "      <th>75%</th>\n",
       "      <th>max</th>\n",
       "    </tr>\n",
       "    <tr>\n",
       "      <th>race</th>\n",
       "      <th></th>\n",
       "      <th></th>\n",
       "      <th></th>\n",
       "      <th></th>\n",
       "      <th></th>\n",
       "      <th></th>\n",
       "      <th></th>\n",
       "      <th></th>\n",
       "      <th></th>\n",
       "      <th></th>\n",
       "      <th></th>\n",
       "      <th></th>\n",
       "      <th></th>\n",
       "      <th></th>\n",
       "      <th></th>\n",
       "      <th></th>\n",
       "    </tr>\n",
       "  </thead>\n",
       "  <tbody>\n",
       "    <tr>\n",
       "      <th>1. White</th>\n",
       "      <td>2480.0</td>\n",
       "      <td>112.564</td>\n",
       "      <td>41.734</td>\n",
       "      <td>20.086</td>\n",
       "      <td>86.695</td>\n",
       "      <td>106.348</td>\n",
       "      <td>130.043</td>\n",
       "      <td>314.329</td>\n",
       "      <td>2480.0</td>\n",
       "      <td>42.395</td>\n",
       "      <td>11.366</td>\n",
       "      <td>18.0</td>\n",
       "      <td>34.00</td>\n",
       "      <td>42.0</td>\n",
       "      <td>51.0</td>\n",
       "      <td>80.0</td>\n",
       "    </tr>\n",
       "    <tr>\n",
       "      <th>2. Black</th>\n",
       "      <td>293.0</td>\n",
       "      <td>101.601</td>\n",
       "      <td>37.162</td>\n",
       "      <td>23.275</td>\n",
       "      <td>81.283</td>\n",
       "      <td>94.073</td>\n",
       "      <td>117.147</td>\n",
       "      <td>318.342</td>\n",
       "      <td>293.0</td>\n",
       "      <td>43.563</td>\n",
       "      <td>13.013</td>\n",
       "      <td>18.0</td>\n",
       "      <td>33.00</td>\n",
       "      <td>44.0</td>\n",
       "      <td>52.0</td>\n",
       "      <td>75.0</td>\n",
       "    </tr>\n",
       "    <tr>\n",
       "      <th>3. Asian</th>\n",
       "      <td>190.0</td>\n",
       "      <td>120.288</td>\n",
       "      <td>46.423</td>\n",
       "      <td>34.607</td>\n",
       "      <td>87.981</td>\n",
       "      <td>115.375</td>\n",
       "      <td>144.828</td>\n",
       "      <td>299.263</td>\n",
       "      <td>190.0</td>\n",
       "      <td>41.821</td>\n",
       "      <td>11.219</td>\n",
       "      <td>22.0</td>\n",
       "      <td>32.25</td>\n",
       "      <td>40.0</td>\n",
       "      <td>50.0</td>\n",
       "      <td>76.0</td>\n",
       "    </tr>\n",
       "    <tr>\n",
       "      <th>4. Other</th>\n",
       "      <td>37.0</td>\n",
       "      <td>89.973</td>\n",
       "      <td>29.154</td>\n",
       "      <td>38.224</td>\n",
       "      <td>71.320</td>\n",
       "      <td>81.283</td>\n",
       "      <td>104.922</td>\n",
       "      <td>169.529</td>\n",
       "      <td>37.0</td>\n",
       "      <td>37.703</td>\n",
       "      <td>11.554</td>\n",
       "      <td>21.0</td>\n",
       "      <td>28.00</td>\n",
       "      <td>39.0</td>\n",
       "      <td>47.0</td>\n",
       "      <td>65.0</td>\n",
       "    </tr>\n",
       "  </tbody>\n",
       "</table>\n",
       "</div>"
      ],
      "text/plain": [
       "            wage                                                              \\\n",
       "           count     mean     std     min     25%      50%      75%      max   \n",
       "race                                                                           \n",
       "1. White  2480.0  112.564  41.734  20.086  86.695  106.348  130.043  314.329   \n",
       "2. Black   293.0  101.601  37.162  23.275  81.283   94.073  117.147  318.342   \n",
       "3. Asian   190.0  120.288  46.423  34.607  87.981  115.375  144.828  299.263   \n",
       "4. Other    37.0   89.973  29.154  38.224  71.320   81.283  104.922  169.529   \n",
       "\n",
       "             age                                                 \n",
       "           count    mean     std   min    25%   50%   75%   max  \n",
       "race                                                             \n",
       "1. White  2480.0  42.395  11.366  18.0  34.00  42.0  51.0  80.0  \n",
       "2. Black   293.0  43.563  13.013  18.0  33.00  44.0  52.0  75.0  \n",
       "3. Asian   190.0  41.821  11.219  22.0  32.25  40.0  50.0  76.0  \n",
       "4. Other    37.0  37.703  11.554  21.0  28.00  39.0  47.0  65.0  "
      ]
     },
     "execution_count": 40,
     "metadata": {},
     "output_type": "execute_result"
    }
   ],
   "source": [
    "group_stats = df.groupby(\"race\")[[\"wage\", \"age\"]].describe()\n",
    "group_stats\n"
   ]
  },
  {
   "cell_type": "markdown",
   "id": "8c1dbf9d",
   "metadata": {
    "jp-MarkdownHeadingCollapsed": true
   },
   "source": [
    "## 13. Mean vs. median wage – interpretation"
   ]
  },
  {
   "cell_type": "markdown",
   "id": "58993862",
   "metadata": {},
   "source": [
    "Compare mean and median to assess skewness/outliers."
   ]
  },
  {
   "cell_type": "code",
   "execution_count": 46,
   "id": "f0fe74a7",
   "metadata": {},
   "outputs": [
    {
     "name": "stdout",
     "output_type": "stream",
     "text": [
      "Mean wage:   111.70\n",
      "Median wage: 104.92\n"
     ]
    }
   ],
   "source": [
    "mean_wage = df[\"wage\"].mean()\n",
    "median_wage = df[\"wage\"].median()\n",
    "print(f\"Mean wage:   {mean_wage:.2f}\")\n",
    "print(f\"Median wage: {median_wage:.2f}\")"
   ]
  },
  {
   "cell_type": "markdown",
   "id": "dcd6778b-da3e-419c-9535-d936d5bde033",
   "metadata": {},
   "source": [
    "Mean > Median suggests a right-skew (some high earners)"
   ]
  },
  {
   "cell_type": "markdown",
   "id": "5c95350c",
   "metadata": {
    "jp-MarkdownHeadingCollapsed": true
   },
   "source": [
    "## 14. `age` and `wage` columns only"
   ]
  },
  {
   "cell_type": "markdown",
   "id": "37d30bd2",
   "metadata": {},
   "source": [
    "Select and display only the `age` and `wage` columns."
   ]
  },
  {
   "cell_type": "code",
   "execution_count": 52,
   "id": "d2e26425",
   "metadata": {},
   "outputs": [
    {
     "data": {
      "text/html": [
       "<div>\n",
       "<style scoped>\n",
       "    .dataframe tbody tr th:only-of-type {\n",
       "        vertical-align: middle;\n",
       "    }\n",
       "\n",
       "    .dataframe tbody tr th {\n",
       "        vertical-align: top;\n",
       "    }\n",
       "\n",
       "    .dataframe thead th {\n",
       "        text-align: right;\n",
       "    }\n",
       "</style>\n",
       "<table border=\"1\" class=\"dataframe\">\n",
       "  <thead>\n",
       "    <tr style=\"text-align: right;\">\n",
       "      <th></th>\n",
       "      <th>age</th>\n",
       "      <th>wage</th>\n",
       "    </tr>\n",
       "  </thead>\n",
       "  <tbody>\n",
       "    <tr>\n",
       "      <th>0</th>\n",
       "      <td>18</td>\n",
       "      <td>75.043</td>\n",
       "    </tr>\n",
       "    <tr>\n",
       "      <th>1</th>\n",
       "      <td>24</td>\n",
       "      <td>70.476</td>\n",
       "    </tr>\n",
       "    <tr>\n",
       "      <th>2</th>\n",
       "      <td>45</td>\n",
       "      <td>130.982</td>\n",
       "    </tr>\n",
       "    <tr>\n",
       "      <th>3</th>\n",
       "      <td>43</td>\n",
       "      <td>154.685</td>\n",
       "    </tr>\n",
       "    <tr>\n",
       "      <th>4</th>\n",
       "      <td>50</td>\n",
       "      <td>75.043</td>\n",
       "    </tr>\n",
       "    <tr>\n",
       "      <th>5</th>\n",
       "      <td>54</td>\n",
       "      <td>127.116</td>\n",
       "    </tr>\n",
       "    <tr>\n",
       "      <th>6</th>\n",
       "      <td>44</td>\n",
       "      <td>169.529</td>\n",
       "    </tr>\n",
       "    <tr>\n",
       "      <th>7</th>\n",
       "      <td>30</td>\n",
       "      <td>111.721</td>\n",
       "    </tr>\n",
       "    <tr>\n",
       "      <th>8</th>\n",
       "      <td>41</td>\n",
       "      <td>118.884</td>\n",
       "    </tr>\n",
       "    <tr>\n",
       "      <th>9</th>\n",
       "      <td>52</td>\n",
       "      <td>128.680</td>\n",
       "    </tr>\n",
       "  </tbody>\n",
       "</table>\n",
       "</div>"
      ],
      "text/plain": [
       "   age     wage\n",
       "0   18   75.043\n",
       "1   24   70.476\n",
       "2   45  130.982\n",
       "3   43  154.685\n",
       "4   50   75.043\n",
       "5   54  127.116\n",
       "6   44  169.529\n",
       "7   30  111.721\n",
       "8   41  118.884\n",
       "9   52  128.680"
      ]
     },
     "execution_count": 52,
     "metadata": {},
     "output_type": "execute_result"
    }
   ],
   "source": [
    "df[['age', 'wage']].head(10)"
   ]
  },
  {
   "cell_type": "markdown",
   "id": "9b630c0b",
   "metadata": {
    "jp-MarkdownHeadingCollapsed": true
   },
   "source": [
    "## 15. Correlation between `age` and `wage`"
   ]
  },
  {
   "cell_type": "markdown",
   "id": "14f6e278",
   "metadata": {},
   "source": [
    "Compute Pearson correlation and show a quick scatter."
   ]
  },
  {
   "cell_type": "code",
   "execution_count": 60,
   "id": "b73f734c",
   "metadata": {},
   "outputs": [
    {
     "name": "stdout",
     "output_type": "stream",
     "text": [
      "Pearson correlation (age, wage): 0.196\n"
     ]
    },
    {
     "data": {
      "image/png": "[encoded data removed]",
      "text/plain": [
       "<Figure size 640x480 with 1 Axes>"
      ]
     },
     "metadata": {},
     "output_type": "display_data"
    }
   ],
   "source": [
    "corr_val = df[\"age\"].corr(df[\"wage\"])\n",
    "print(f\"Pearson correlation (age, wage): {corr_val:.3f}\")\n",
    "\n",
    "# Simple scatter plot without specifying colors/styles\n",
    "plt.figure()\n",
    "plt.scatter(df[\"age\"], df[\"wage\"])\n",
    "plt.title(\"Age vs. Wage\")\n",
    "plt.xlabel(\"Age\")\n",
    "plt.ylabel(\"Wage\")\n",
    "plt.show()"
   ]
  },
  {
   "cell_type": "markdown",
   "id": "d713de7b-37b5-4d9a-96f4-7c3b47f4b523",
   "metadata": {},
   "source": [
    "Values near 0 imply weak linear correlation. The Pearson correlation is 0.196, which is a weak positive correlation. This means that as age increases, wages tend to rise slightly, but the relationship is not strong.\n",
    "\n",
    "The scatter plot shows that Wages are widely dispersed across all ages, with no clear upward or downward trend, and some high earners are spread across different age groups, not concentrated in a single range.\n",
    "\n",
    "Therefore, age might play a small role in explaining wage differences, but it is not a strong predictor on its own. Other factors (such as education, job class, or health) likely explain more of the variation in wages.\n"
   ]
  },
  {
   "cell_type": "markdown",
   "id": "9fe41dae",
   "metadata": {
    "jp-MarkdownHeadingCollapsed": true
   },
   "source": [
    "## 16. Top 10 salaries"
   ]
  },
  {
   "cell_type": "markdown",
   "id": "6cb6b8f4",
   "metadata": {},
   "source": [
    "Sort by `wage` descending and display the top 10."
   ]
  },
  {
   "cell_type": "code",
   "execution_count": 66,
   "id": "e8349aa6",
   "metadata": {},
   "outputs": [
    {
     "data": {
      "text/html": [
       "<div>\n",
       "<style scoped>\n",
       "    .dataframe tbody tr th:only-of-type {\n",
       "        vertical-align: middle;\n",
       "    }\n",
       "\n",
       "    .dataframe tbody tr th {\n",
       "        vertical-align: top;\n",
       "    }\n",
       "\n",
       "    .dataframe thead th {\n",
       "        text-align: right;\n",
       "    }\n",
       "</style>\n",
       "<table border=\"1\" class=\"dataframe\">\n",
       "  <thead>\n",
       "    <tr style=\"text-align: right;\">\n",
       "      <th></th>\n",
       "      <th>age</th>\n",
       "      <th>race</th>\n",
       "      <th>education</th>\n",
       "      <th>jobclass</th>\n",
       "      <th>wage</th>\n",
       "    </tr>\n",
       "  </thead>\n",
       "  <tbody>\n",
       "    <tr>\n",
       "      <th>206</th>\n",
       "      <td>63</td>\n",
       "      <td>2. Black</td>\n",
       "      <td>5. Advanced Degree</td>\n",
       "      <td>2. Information</td>\n",
       "      <td>318.342</td>\n",
       "    </tr>\n",
       "    <tr>\n",
       "      <th>1229</th>\n",
       "      <td>46</td>\n",
       "      <td>2. Black</td>\n",
       "      <td>2. HS Grad</td>\n",
       "      <td>2. Information</td>\n",
       "      <td>318.342</td>\n",
       "    </tr>\n",
       "    <tr>\n",
       "      <th>503</th>\n",
       "      <td>38</td>\n",
       "      <td>1. White</td>\n",
       "      <td>3. Some College</td>\n",
       "      <td>2. Information</td>\n",
       "      <td>314.329</td>\n",
       "    </tr>\n",
       "    <tr>\n",
       "      <th>1293</th>\n",
       "      <td>38</td>\n",
       "      <td>2. Black</td>\n",
       "      <td>2. HS Grad</td>\n",
       "      <td>2. Information</td>\n",
       "      <td>311.935</td>\n",
       "    </tr>\n",
       "    <tr>\n",
       "      <th>2712</th>\n",
       "      <td>58</td>\n",
       "      <td>2. Black</td>\n",
       "      <td>3. Some College</td>\n",
       "      <td>2. Information</td>\n",
       "      <td>309.572</td>\n",
       "    </tr>\n",
       "    <tr>\n",
       "      <th>1112</th>\n",
       "      <td>34</td>\n",
       "      <td>2. Black</td>\n",
       "      <td>5. Advanced Degree</td>\n",
       "      <td>2. Information</td>\n",
       "      <td>309.572</td>\n",
       "    </tr>\n",
       "    <tr>\n",
       "      <th>2893</th>\n",
       "      <td>40</td>\n",
       "      <td>3. Asian</td>\n",
       "      <td>5. Advanced Degree</td>\n",
       "      <td>2. Information</td>\n",
       "      <td>299.263</td>\n",
       "    </tr>\n",
       "    <tr>\n",
       "      <th>2925</th>\n",
       "      <td>39</td>\n",
       "      <td>1. White</td>\n",
       "      <td>2. HS Grad</td>\n",
       "      <td>1. Industrial</td>\n",
       "      <td>295.991</td>\n",
       "    </tr>\n",
       "    <tr>\n",
       "      <th>489</th>\n",
       "      <td>41</td>\n",
       "      <td>1. White</td>\n",
       "      <td>5. Advanced Degree</td>\n",
       "      <td>2. Information</td>\n",
       "      <td>284.525</td>\n",
       "    </tr>\n",
       "    <tr>\n",
       "      <th>347</th>\n",
       "      <td>43</td>\n",
       "      <td>1. White</td>\n",
       "      <td>5. Advanced Degree</td>\n",
       "      <td>2. Information</td>\n",
       "      <td>281.746</td>\n",
       "    </tr>\n",
       "  </tbody>\n",
       "</table>\n",
       "</div>"
      ],
      "text/plain": [
       "      age      race           education        jobclass     wage\n",
       "206    63  2. Black  5. Advanced Degree  2. Information  318.342\n",
       "1229   46  2. Black          2. HS Grad  2. Information  318.342\n",
       "503    38  1. White     3. Some College  2. Information  314.329\n",
       "1293   38  2. Black          2. HS Grad  2. Information  311.935\n",
       "2712   58  2. Black     3. Some College  2. Information  309.572\n",
       "1112   34  2. Black  5. Advanced Degree  2. Information  309.572\n",
       "2893   40  3. Asian  5. Advanced Degree  2. Information  299.263\n",
       "2925   39  1. White          2. HS Grad   1. Industrial  295.991\n",
       "489    41  1. White  5. Advanced Degree  2. Information  284.525\n",
       "347    43  1. White  5. Advanced Degree  2. Information  281.746"
      ]
     },
     "execution_count": 66,
     "metadata": {},
     "output_type": "execute_result"
    }
   ],
   "source": [
    "df.sort_values(by='wage', ascending=False).head(10)[['age', 'race', 'education', 'jobclass', 'wage']]"
   ]
  },
  {
   "cell_type": "markdown",
   "id": "d1e31916",
   "metadata": {
    "jp-MarkdownHeadingCollapsed": true
   },
   "source": [
    "## 17. Race counts"
   ]
  },
  {
   "cell_type": "markdown",
   "id": "6c2ebe3c",
   "metadata": {},
   "source": [
    "Count the number of rows for each race."
   ]
  },
  {
   "cell_type": "code",
   "execution_count": 70,
   "id": "4360eb61",
   "metadata": {},
   "outputs": [
    {
     "data": {
      "text/plain": [
       "race\n",
       "1. White    2480\n",
       "2. Black     293\n",
       "3. Asian     190\n",
       "4. Other      37\n",
       "Name: count, dtype: int64"
      ]
     },
     "execution_count": 70,
     "metadata": {},
     "output_type": "execute_result"
    }
   ],
   "source": [
    "df['race'].value_counts()"
   ]
  },
  {
   "cell_type": "markdown",
   "id": "5f661145",
   "metadata": {
    "jp-MarkdownHeadingCollapsed": true
   },
   "source": [
    "## 18. Race proportions"
   ]
  },
  {
   "cell_type": "markdown",
   "id": "eaa09871",
   "metadata": {},
   "source": [
    "Compute normalized value counts to obtain proportions."
   ]
  },
  {
   "cell_type": "code",
   "execution_count": 74,
   "id": "21a8b001",
   "metadata": {},
   "outputs": [
    {
     "data": {
      "text/plain": [
       "race\n",
       "1. White    0.827\n",
       "2. Black    0.098\n",
       "3. Asian    0.063\n",
       "4. Other    0.012\n",
       "Name: proportion, dtype: float64"
      ]
     },
     "execution_count": 74,
     "metadata": {},
     "output_type": "execute_result"
    }
   ],
   "source": [
    "df['race'].value_counts(normalize=True).round(3)"
   ]
  },
  {
   "cell_type": "markdown",
   "id": "99f455c1",
   "metadata": {
    "jp-MarkdownHeadingCollapsed": true
   },
   "source": [
    "## 19. Job class proportionality – bar plot"
   ]
  },
  {
   "cell_type": "markdown",
   "id": "1bb39722",
   "metadata": {},
   "source": [
    "Create a bar chart of the proportion of each `jobclass`."
   ]
  },
  {
   "cell_type": "code",
   "execution_count": 78,
   "id": "8e13acd2",
   "metadata": {},
   "outputs": [
    {
     "data": {
      "image/png": "[encoded data removed]",
      "text/plain": [
       "<Figure size 640x480 with 1 Axes>"
      ]
     },
     "metadata": {},
     "output_type": "display_data"
    },
    {
     "data": {
      "text/plain": [
       "jobclass\n",
       "1. Industrial     0.515\n",
       "2. Information    0.485\n",
       "Name: proportion, dtype: float64"
      ]
     },
     "execution_count": 78,
     "metadata": {},
     "output_type": "execute_result"
    }
   ],
   "source": [
    "jobclass_prop = df[\"jobclass\"].value_counts(normalize=True)\n",
    "\n",
    "# Plot with matplotlib (no custom colors or styles)\n",
    "plt.figure()\n",
    "jobclass_prop.plot(kind=\"bar\")\n",
    "plt.title(\"Job Class Proportionality\")\n",
    "plt.xlabel(\"Job Class\")\n",
    "plt.ylabel(\"Proportion\")\n",
    "plt.ylim(0, 1)\n",
    "plt.show()\n",
    "\n",
    "jobclass_prop.round(3)\n"
   ]
  },
  {
   "cell_type": "markdown",
   "id": "75eda9a9-73cb-4e45-a766-c168025cebd9",
   "metadata": {},
   "source": [
    "The chart shows that the dataset is almost evenly split between the two job classes. Industrial jobs make up about 51.5% of the sample, while Information jobs account for about 48.5%.\n",
    "\n",
    "The balance between the two groups is fairly close, suggesting that both job types are well-represented in the dataset, which helps avoid strong bias toward one class in analysis."
   ]
  }
 ],
 "metadata": {
  "kernelspec": {
   "display_name": "Python 3 (ipykernel)",
   "language": "python",
   "name": "python3"
  },
  "language_info": {
   "codemirror_mode": {
    "name": "ipython",
    "version": 3
   },
   "file_extension": ".py",
   "mimetype": "text/x-python",
   "name": "python",
   "nbconvert_exporter": "python",
   "pygments_lexer": "ipython3",
   "version": "3.12.4"
  }
 },
 "nbformat": 4,
 "nbformat_minor": 5
}
